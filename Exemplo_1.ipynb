{
  "nbformat": 4,
  "nbformat_minor": 0,
  "metadata": {
    "colab": {
      "provenance": [],
      "toc_visible": true,
      "authorship_tag": "ABX9TyMobzkws2l3UPyfXWrIPeCO",
      "include_colab_link": true
    },
    "kernelspec": {
      "name": "python3",
      "display_name": "Python 3"
    },
    "language_info": {
      "name": "python"
    }
  },
  "cells": [
    {
      "cell_type": "markdown",
      "metadata": {
        "id": "view-in-github",
        "colab_type": "text"
      },
      "source": [
        "<a href=\"https://colab.research.google.com/github/jefersontigik/Python_Samples/blob/main/Exemplo_1.ipynb\" target=\"_parent\"><img src=\"https://colab.research.google.com/assets/colab-badge.svg\" alt=\"Open In Colab\"/></a>"
      ]
    },
    {
      "cell_type": "code",
      "execution_count": null,
      "metadata": {
        "id": "G82NkMtFMFyA"
      },
      "outputs": [],
      "source": []
    },
    {
      "cell_type": "markdown",
      "source": [
        "## **Criando o primeiro Caderno no Google Colab.**"
      ],
      "metadata": {
        "id": "8z8KrBvuMS_Y"
      }
    },
    {
      "cell_type": "code",
      "source": [
        "a = 4\n",
        "b = 3\n",
        "c = a / b\n",
        "\n",
        "print(c)\n",
        "\n",
        "print(type(a))\n",
        "print(type(b))\n",
        "print(type(c))"
      ],
      "metadata": {
        "colab": {
          "base_uri": "https://localhost:8080/"
        },
        "id": "9Zhdjj2JMyhP",
        "outputId": "e8220cb8-f7c6-4969-db39-5c4f23a16a3e"
      },
      "execution_count": null,
      "outputs": [
        {
          "output_type": "stream",
          "name": "stdout",
          "text": [
            "1.3333333333333333\n",
            "<class 'int'>\n",
            "<class 'int'>\n",
            "<class 'float'>\n"
          ]
        }
      ]
    },
    {
      "cell_type": "markdown",
      "source": [
        "## **Solução vendas:**"
      ],
      "metadata": {
        "id": "2nlHf0kbTPzD"
      }
    },
    {
      "cell_type": "code",
      "source": [
        "valor_total_vendas_19 = 153.98\n",
        "qtd_total_vendas_19 = 3\n",
        "ticket_medio_19 = valor_total_vendas_19 / qtd_total_vendas_19\n",
        "print(ticket_medio_19)\n",
        "\n",
        "valor_total_vendas_20 = 331.01\n",
        "qtd_total_vendas_20 = 7\n",
        "ticket_medio_20 = valor_total_vendas_20 / qtd_total_vendas_20\n",
        "print(ticket_medio_20)\n",
        "\n",
        "valor_total_vendas_23 = 295.33\n",
        "qtd_total_vendas_23 = 5\n",
        "ticket_medio_23 = valor_total_vendas_23 / qtd_total_vendas_23\n",
        "print(ticket_medio_23)"
      ],
      "metadata": {
        "colab": {
          "base_uri": "https://localhost:8080/"
        },
        "id": "BjE4heXITWOy",
        "outputId": "32b69134-ebf5-4b0c-8c96-5b02f018e95c"
      },
      "execution_count": 7,
      "outputs": [
        {
          "output_type": "stream",
          "name": "stdout",
          "text": [
            "51.32666666666666\n"
          ]
        }
      ]
    },
    {
      "cell_type": "markdown",
      "source": [
        "## **Estoque e-commerce:**"
      ],
      "metadata": {
        "id": "65TupVw2WU_6"
      }
    },
    {
      "cell_type": "code",
      "source": [
        "qtd_itens_carrinho = 0\n",
        "qtd_itens_carrinho = qtd_itens_carrinho + 1\n",
        "qtd_itens_carrinho += 1\n",
        "print(qtd_itens_carrinho)\n",
        "\n",
        "qtd_itens_carrinho -= 1\n",
        "print(qtd_itens_carrinho)\n"
      ],
      "metadata": {
        "colab": {
          "base_uri": "https://localhost:8080/"
        },
        "id": "aM0VDyE9Wg-P",
        "outputId": "9fee7d1d-a813-4a9c-b15b-ec156c7ae07b"
      },
      "execution_count": 11,
      "outputs": [
        {
          "output_type": "stream",
          "name": "stdout",
          "text": [
            "2\n",
            "1\n"
          ]
        }
      ]
    },
    {
      "cell_type": "markdown",
      "source": [
        "## **Operação divisão:**"
      ],
      "metadata": {
        "id": "G9jaaILaYPvZ"
      }
    },
    {
      "cell_type": "code",
      "source": [
        "a = 3\n",
        "b = 2\n",
        "\n",
        "c = a / b\n",
        "print(c)\n",
        "print(type(c))\n",
        "\n",
        "d = a // b\n",
        "print(d)\n",
        "print(type(d))"
      ],
      "metadata": {
        "colab": {
          "base_uri": "https://localhost:8080/"
        },
        "id": "QQ8VN0V2YW8I",
        "outputId": "9a6532cf-5a06-4c4d-c952-7a3c7356f357"
      },
      "execution_count": 12,
      "outputs": [
        {
          "output_type": "stream",
          "name": "stdout",
          "text": [
            "1.5\n",
            "<class 'float'>\n",
            "1\n",
            "<class 'int'>\n"
          ]
        }
      ]
    },
    {
      "cell_type": "markdown",
      "source": [
        "## **Conversão:**"
      ],
      "metadata": {
        "id": "RZXKMEH5ZHCw"
      }
    },
    {
      "cell_type": "code",
      "source": [
        "a = 3.9\n",
        "b = int(a)\n",
        "print(a)\n",
        "print(b)\n",
        "\n",
        "a = 3\n",
        "b = float(a)\n",
        "print(a)\n",
        "print(b)\n",
        "\n",
        "print(str(a))\n"
      ],
      "metadata": {
        "colab": {
          "base_uri": "https://localhost:8080/"
        },
        "id": "BTlgDOAbZYQo",
        "outputId": "f3c2c5a1-6233-4604-861e-0dc7fdfe0d54"
      },
      "execution_count": 15,
      "outputs": [
        {
          "output_type": "stream",
          "name": "stdout",
          "text": [
            "3.9\n",
            "3\n",
            "3\n",
            "3.0\n",
            "3\n"
          ]
        }
      ]
    },
    {
      "cell_type": "markdown",
      "source": [
        "# **Strings:**"
      ],
      "metadata": {
        "id": "oMp5QuFuaayq"
      }
    },
    {
      "cell_type": "code",
      "source": [
        "a = 'Lua'\n",
        "b = 'Nova'\n",
        "c = 'noite de'\n",
        "d = a + b + c\n",
        "\n",
        "print(f'Esta noite é de {a} {b}!')"
      ],
      "metadata": {
        "colab": {
          "base_uri": "https://localhost:8080/"
        },
        "id": "ppTfOGodbFu1",
        "outputId": "dce2e5d6-9d9f-49f4-da9b-d5c3abc90d86"
      },
      "execution_count": 21,
      "outputs": [
        {
          "output_type": "stream",
          "name": "stdout",
          "text": [
            "Esta noite é de Lua Nova!\n"
          ]
        }
      ]
    }
  ]
}