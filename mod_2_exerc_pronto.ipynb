{
  "nbformat": 4,
  "nbformat_minor": 0,
  "metadata": {
    "colab": {
      "provenance": [],
      "include_colab_link": true
    },
    "kernelspec": {
      "name": "python3",
      "display_name": "Python 3"
    }
  },
  "cells": [
    {
      "cell_type": "markdown",
      "metadata": {
        "id": "view-in-github",
        "colab_type": "text"
      },
      "source": [
        "<a href=\"https://colab.research.google.com/github/jefersontigik/Python_Samples/blob/main/mod_2_exerc_pronto.ipynb\" target=\"_parent\"><img src=\"https://colab.research.google.com/assets/colab-badge.svg\" alt=\"Open In Colab\"/></a>"
      ]
    },
    {
      "cell_type": "markdown",
      "metadata": {
        "id": "KJqp9AANOCtf"
      },
      "source": [
        "<img src=\"https://raw.githubusercontent.com/andre-marcos-perez/ebac-course-utils/main/media/logo/newebac_logo_black_half.png\" alt=\"ebac-logo\">\n",
        "\n",
        "---\n",
        "\n",
        "# **Módulo 02** | Python: Estruturas de Dados\n",
        "Caderno de **Exercícios**<br> \n",
        "Aluno [Jeferson Tigik](https://www.linkedin.com/in/jeferson-tigik/)\n",
        "\n",
        "---"
      ]
    },
    {
      "cell_type": "markdown",
      "metadata": {
        "id": "d9jDtUbDOE1-"
      },
      "source": [
        "# **Tópicos**\n",
        "\n",
        "<ol type=\"1\">\n",
        "  <li>Listas;</li>\n",
        "  <li>Conjuntos;</li>\n",
        "  <li>Dicionários.</li>\n",
        "</ol>"
      ]
    },
    {
      "cell_type": "markdown",
      "metadata": {
        "id": "SmoHgt-lwkpD"
      },
      "source": [
        "---"
      ]
    },
    {
      "cell_type": "markdown",
      "metadata": {
        "id": "GABI6OW8OfQ2"
      },
      "source": [
        "# **Exercícios**"
      ]
    },
    {
      "cell_type": "markdown",
      "metadata": {
        "id": "muD1vxozykSC"
      },
      "source": [
        "## 1\\. Listas"
      ]
    },
    {
      "cell_type": "markdown",
      "metadata": {
        "id": "ahrFfCuBxJKs"
      },
      "source": [
        "Criei uma lista chamada `filmes` com o nome dos 10 primeiros filmes mais bem avaliados no site no [IMDB](https://www.imdb.com/chart/top/). Imprima o resultado."
      ]
    },
    {
      "cell_type": "code",
      "metadata": {
        "id": "OgL6Hv3bzOHI",
        "colab": {
          "base_uri": "https://localhost:8080/"
        },
        "outputId": "b9cecb14-0ab9-4d12-e1b1-abb1d3303731"
      },
      "source": [
        "# Criando uma lista de filmes\n",
        "filmes = ['The Shawshank Redemption', 'The Godfather', 'The Dark Knight', 'Angry Men', 'Schindlers List', 'The Lord of the Rings: The Return of the King']\n",
        "\n",
        "print(filmes)"
      ],
      "execution_count": 8,
      "outputs": [
        {
          "output_type": "stream",
          "name": "stdout",
          "text": [
            "['The Shawshank Redemption', 'The Godfather', 'The Dark Knight', 'Angry Men', 'Schindlers List', 'The Lord of the Rings: The Return of the King']\n"
          ]
        }
      ]
    },
    {
      "cell_type": "markdown",
      "metadata": {
        "id": "KI9zQRT2xa7m"
      },
      "source": [
        "Simule a movimentação do *ranking*. Utilize os métodos `insert` e `pop` para trocar a posição do primeiro e do segundo filme da lista. Imprima o resultado.\n",
        "\n"
      ]
    },
    {
      "cell_type": "code",
      "metadata": {
        "id": "zX3mA3_GzrXH",
        "colab": {
          "base_uri": "https://localhost:8080/"
        },
        "outputId": "5f54e062-43b6-4228-f1c8-bf89e2a1385b"
      },
      "source": [
        "# Movendo um filme\n",
        "print(f'List then: {filmes}')\n",
        "\n",
        "move_filme_0 = filmes.pop(0)\n",
        "move_filme_1 = filmes.pop(1)\n",
        "\n",
        "filmes.insert(0, move_filme_1)\n",
        "filmes.insert(1, move_filme_0)\n",
        "\n",
        "print(f'List now: {filmes}')\n"
      ],
      "execution_count": 9,
      "outputs": [
        {
          "output_type": "stream",
          "name": "stdout",
          "text": [
            "List then: ['The Shawshank Redemption', 'The Godfather', 'The Dark Knight', 'Angry Men', 'Schindlers List', 'The Lord of the Rings: The Return of the King']\n",
            "List now: ['The Dark Knight', 'The Shawshank Redemption', 'The Godfather', 'Angry Men', 'Schindlers List', 'The Lord of the Rings: The Return of the King']\n"
          ]
        }
      ]
    },
    {
      "cell_type": "code",
      "source": [
        "# Adicionando um filme no final da lista\n",
        "filmes.append('Forrest Gump')\n",
        "print(f'List after insert: {filmes}')"
      ],
      "metadata": {
        "colab": {
          "base_uri": "https://localhost:8080/"
        },
        "id": "hGtnFaBhztoF",
        "outputId": "3529dee0-1a0e-4a18-e0d5-b5de54edb2a5"
      },
      "execution_count": 10,
      "outputs": [
        {
          "output_type": "stream",
          "name": "stdout",
          "text": [
            "List after insert: ['The Dark Knight', 'The Shawshank Redemption', 'The Godfather', 'Angry Men', 'Schindlers List', 'The Lord of the Rings: The Return of the King', 'Forrest Gump']\n"
          ]
        }
      ]
    },
    {
      "cell_type": "markdown",
      "metadata": {
        "id": "zMN1Q3jdwoJm"
      },
      "source": [
        "---"
      ]
    },
    {
      "cell_type": "markdown",
      "metadata": {
        "id": "lxa5L6uF0ZJE"
      },
      "source": [
        "## 2\\. Conjuntos"
      ]
    },
    {
      "cell_type": "markdown",
      "metadata": {
        "id": "9JahS2Kj0d5u"
      },
      "source": [
        "Aconteceu um erro no seu *ranking*. Simule a duplicação dos três últimos filmes da lista. Imprima o resultado."
      ]
    },
    {
      "cell_type": "code",
      "metadata": {
        "id": "BnjnLBNC6PGe",
        "colab": {
          "base_uri": "https://localhost:8080/"
        },
        "outputId": "340e92fa-6805-42d8-a8f5-d07b0bde5b75"
      },
      "source": [
        "#Criando um conjunto:\n",
        "ranking = {'The Shawshank Redemption', \n",
        "           'The Godfather', \n",
        "           'The Dark Knight', \n",
        "           'Angry Men', \n",
        "           'Schindlers List', \n",
        "           'The Lord of the Rings: The Return of the King', \n",
        "           'Forrest Gump'}\n",
        "print(ranking)"
      ],
      "execution_count": 17,
      "outputs": [
        {
          "output_type": "stream",
          "name": "stdout",
          "text": [
            "{'Forrest Gump', 'The Lord of the Rings: The Return of the King', 'The Dark Knight', 'The Godfather', 'Angry Men', 'Schindlers List', 'The Shawshank Redemption'}\n"
          ]
        }
      ]
    },
    {
      "cell_type": "code",
      "source": [
        "#Duplicando os 3 últimos registros:\n",
        "print(f'Then: {ranking}')\n",
        "\n",
        "ranking_2 = {'Forrest Gump', 'Schindlers List', 'The Lord of the Rings: The Return of the King'}\n",
        "\n",
        "ranking.update(list(ranking_2))\n",
        "\n",
        "print(f'Now: {ranking}')"
      ],
      "metadata": {
        "colab": {
          "base_uri": "https://localhost:8080/"
        },
        "id": "XSobXQYl2-tv",
        "outputId": "4f50dc8a-22cc-47b4-9d9b-7b4b4f68a56b"
      },
      "execution_count": 18,
      "outputs": [
        {
          "output_type": "stream",
          "name": "stdout",
          "text": [
            "Then: {'Forrest Gump', 'The Lord of the Rings: The Return of the King', 'The Dark Knight', 'The Godfather', 'Angry Men', 'Schindlers List', 'The Shawshank Redemption'}\n",
            "Now: {'Forrest Gump', 'The Lord of the Rings: The Return of the King', 'The Dark Knight', 'The Godfather', 'Angry Men', 'Schindlers List', 'The Shawshank Redemption'}\n"
          ]
        }
      ]
    },
    {
      "cell_type": "markdown",
      "metadata": {
        "id": "suxTfCJB6ZiX"
      },
      "source": [
        "Utiliza a conversão `set` e `list` para remover os valores duplicados. Imprima o resultado. "
      ]
    },
    {
      "cell_type": "code",
      "metadata": {
        "id": "ZvUGN-0n6joM",
        "colab": {
          "base_uri": "https://localhost:8080/"
        },
        "outputId": "374e2bd3-bcf3-42e9-8005-6f1c2f4a6978"
      },
      "source": [
        "print(f'Ranking set then: {ranking}')\n",
        "\n",
        "ranking_2 = {'Schindlers List', 'Inception', 'The Lord of the Rings: The Return of the King', 'Forrest Gump'}\n",
        "ranking_3 = ranking_2 - ranking\n",
        "\n",
        "print(f'Ranking_3: {ranking_3}')\n",
        "\n",
        "ranking.add(ranking_3.pop())\n",
        "\n",
        "print(f'Ranking set now: {ranking}')"
      ],
      "execution_count": 19,
      "outputs": [
        {
          "output_type": "stream",
          "name": "stdout",
          "text": [
            "Ranking set then: {'Forrest Gump', 'The Lord of the Rings: The Return of the King', 'The Dark Knight', 'The Godfather', 'Angry Men', 'Schindlers List', 'The Shawshank Redemption'}\n",
            "Ranking_3: {'Inception'}\n",
            "Ranking set now: {'Inception', 'Forrest Gump', 'The Lord of the Rings: The Return of the King', 'The Dark Knight', 'The Godfather', 'Angry Men', 'Schindlers List', 'The Shawshank Redemption'}\n"
          ]
        }
      ]
    },
    {
      "cell_type": "markdown",
      "metadata": {
        "id": "ShkK35eQ6pAM"
      },
      "source": [
        "---"
      ]
    },
    {
      "cell_type": "markdown",
      "metadata": {
        "id": "EL_FzmxL6rTv"
      },
      "source": [
        "## 3\\. Dicionários"
      ]
    },
    {
      "cell_type": "markdown",
      "metadata": {
        "id": "i8l0gFqRCpfT"
      },
      "source": [
        "Repita os exercícios da parte 1 (listas). Os elementos da lista `filmes` devem ser dicionários no seguinte formato: `{'nome': <nome-do-filme>, 'ano': <ano do filme>}, 'sinopse': <sinopse do filme>}`. "
      ]
    },
    {
      "cell_type": "code",
      "source": [
        "# Criando um dicionário\n",
        "filmes = [{'nome': 'The Shawshank Redemption', \n",
        "           'ano': 1994, \n",
        "           'sinopse':'Over the course of several years, two convicts form a friendship, seeking consolation and, eventually, redemption through basic compassion.'},\n",
        "          {'nome': 'The Dark Knight', \n",
        "           'ano': 2008, \n",
        "           'sinopse':'When the menace known as the Joker wreaks havoc and chaos on the people of Gotham, Batman must accept one of the greatest psychological and physical tests of his ability to fight injustice.'},\n",
        "          {'nome': 'The Godfather', \n",
        "           'ano': 1972, \n",
        "           'sinopse':'The aging patriarch of an organized crime dynasty in postwar New York City transfers control of his clandestine empire to his reluctant youngest son.'}]\n",
        "\n",
        "print(filmes)"
      ],
      "metadata": {
        "colab": {
          "base_uri": "https://localhost:8080/"
        },
        "id": "VsgNb8aKFJhI",
        "outputId": "034ea309-7e49-43c4-de32-c8f113e456b7"
      },
      "execution_count": null,
      "outputs": [
        {
          "output_type": "stream",
          "name": "stdout",
          "text": [
            "[{'nome': 'The Shawshank Redemption', 'ano': 1994, 'sinopse': 'Over the course of several years, two convicts form a friendship, seeking consolation and, eventually, redemption through basic compassion.'}, {'nome': 'The Dark Knight', 'ano': 2008, 'sinopse': 'When the menace known as the Joker wreaks havoc and chaos on the people of Gotham, Batman must accept one of the greatest psychological and physical tests of his ability to fight injustice.'}, {'nome': 'The Godfather', 'ano': 1972, 'sinopse': 'The aging patriarch of an organized crime dynasty in postwar New York City transfers control of his clandestine empire to his reluctant youngest son.'}]\n"
          ]
        }
      ]
    }
  ]
}