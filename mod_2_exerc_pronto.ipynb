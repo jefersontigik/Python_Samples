{
  "nbformat": 4,
  "nbformat_minor": 0,
  "metadata": {
    "colab": {
      "provenance": [],
      "toc_visible": true,
      "include_colab_link": true
    },
    "kernelspec": {
      "name": "python3",
      "display_name": "Python 3"
    }
  },
  "cells": [
    {
      "cell_type": "markdown",
      "metadata": {
        "id": "view-in-github",
        "colab_type": "text"
      },
      "source": [
        "<a href=\"https://colab.research.google.com/github/jefersontigik/Python_Samples/blob/main/mod_2_exerc_pronto.ipynb\" target=\"_parent\"><img src=\"https://colab.research.google.com/assets/colab-badge.svg\" alt=\"Open In Colab\"/></a>"
      ]
    },
    {
      "cell_type": "markdown",
      "metadata": {
        "id": "KJqp9AANOCtf"
      },
      "source": [
        "<img src=\"https://raw.githubusercontent.com/andre-marcos-perez/ebac-course-utils/main/media/logo/newebac_logo_black_half.png\" alt=\"ebac-logo\">\n",
        "\n",
        "---\n",
        "\n",
        "# **Módulo 02** | Python: Estruturas de Dados\n",
        "Caderno de **Exercícios**<br> \n",
        "Aluno [Jeferson Tigik](https://www.linkedin.com/in/jeferson-tigik/)\n",
        "\n",
        "---"
      ]
    },
    {
      "cell_type": "markdown",
      "metadata": {
        "id": "d9jDtUbDOE1-"
      },
      "source": [
        "# **Tópicos**\n",
        "\n",
        "<ol type=\"1\">\n",
        "  <li>Listas;</li>\n",
        "  <li>Conjuntos;</li>\n",
        "  <li>Dicionários.</li>\n",
        "</ol>"
      ]
    },
    {
      "cell_type": "markdown",
      "metadata": {
        "id": "SmoHgt-lwkpD"
      },
      "source": [
        "---"
      ]
    },
    {
      "cell_type": "markdown",
      "metadata": {
        "id": "GABI6OW8OfQ2"
      },
      "source": [
        "# **Exercícios**"
      ]
    },
    {
      "cell_type": "markdown",
      "metadata": {
        "id": "muD1vxozykSC"
      },
      "source": [
        "## 1\\. Listas"
      ]
    },
    {
      "cell_type": "markdown",
      "metadata": {
        "id": "ahrFfCuBxJKs"
      },
      "source": [
        "Criei uma lista chamada `filmes` com o nome dos 10 primeiros filmes mais bem avaliados no site no [IMDB](https://www.imdb.com/chart/top/). Imprima o resultado."
      ]
    },
    {
      "cell_type": "code",
      "metadata": {
        "id": "OgL6Hv3bzOHI",
        "colab": {
          "base_uri": "https://localhost:8080/"
        },
        "outputId": "ab03e216-1888-466d-9ebb-4a61c6225c9d"
      },
      "source": [
        "# Criando uma lista de filmes\n",
        "filmes = ['The Shawshank Redemption', 'The Godfather', 'The Dark Knight', 'Angry Men', 'Schindlers List', 'The Lord of the Rings: The Return of the King']\n",
        "\n",
        "print(filmes)"
      ],
      "execution_count": 3,
      "outputs": [
        {
          "output_type": "stream",
          "name": "stdout",
          "text": [
            "['The Shawshank Redemption', 'The Godfather', 'The Dark Knight', 'Angry Men', 'Schindlers List', 'The Lord of the Rings: The Return of the King']\n",
            "<class 'list'>\n"
          ]
        }
      ]
    },
    {
      "cell_type": "markdown",
      "metadata": {
        "id": "KI9zQRT2xa7m"
      },
      "source": [
        "Simule a movimentação do *ranking*. Utilize os métodos `insert` e `pop` para trocar a posição do primeiro e do segundo filme da lista. Imprima o resultado.\n",
        "\n"
      ]
    },
    {
      "cell_type": "code",
      "metadata": {
        "id": "zX3mA3_GzrXH",
        "colab": {
          "base_uri": "https://localhost:8080/"
        },
        "outputId": "a4e5ade9-349d-482f-9423-7ab6d09f8b8b"
      },
      "source": [
        "# Movendo um filme\n",
        "print(f'List before: {filmes}')\n",
        "\n",
        "move_filme_0 = filmes.pop(0)\n",
        "move_filme_1 = filmes.pop(1)\n",
        "\n",
        "filmes.insert(0, move_filme_1)\n",
        "filmes.insert(1, move_filme_0)\n",
        "\n",
        "print(f'List after: {filmes}')\n"
      ],
      "execution_count": 6,
      "outputs": [
        {
          "output_type": "stream",
          "name": "stdout",
          "text": [
            "List before: ['The Godfather', 'The Dark Knight', 'The Shawshank Redemption', 'Angry Men', 'Schindlers List', 'The Lord of the Rings: The Return of the King']\n",
            "List after: ['The Shawshank Redemption', 'The Godfather', 'The Dark Knight', 'Angry Men', 'Schindlers List', 'The Lord of the Rings: The Return of the King']\n"
          ]
        }
      ]
    },
    {
      "cell_type": "code",
      "source": [
        "# Adicionando um filme no final da lista\n",
        "filmes.append('Forrest Gump')\n",
        "print(f'List after insert: {filmes}')"
      ],
      "metadata": {
        "colab": {
          "base_uri": "https://localhost:8080/"
        },
        "id": "hGtnFaBhztoF",
        "outputId": "920cd43e-7e96-4a5b-82f2-dac57b9fb79a"
      },
      "execution_count": 7,
      "outputs": [
        {
          "output_type": "stream",
          "name": "stdout",
          "text": [
            "List after insert: ['The Shawshank Redemption', 'The Godfather', 'The Dark Knight', 'Angry Men', 'Schindlers List', 'The Lord of the Rings: The Return of the King', 'Forrest Gump']\n"
          ]
        }
      ]
    },
    {
      "cell_type": "markdown",
      "metadata": {
        "id": "zMN1Q3jdwoJm"
      },
      "source": [
        "---"
      ]
    },
    {
      "cell_type": "markdown",
      "metadata": {
        "id": "lxa5L6uF0ZJE"
      },
      "source": [
        "## 2\\. Conjuntos"
      ]
    },
    {
      "cell_type": "markdown",
      "metadata": {
        "id": "9JahS2Kj0d5u"
      },
      "source": [
        "Aconteceu um erro no seu *ranking*. Simule a duplicação dos três últimos filmes da lista. Imprima o resultado."
      ]
    },
    {
      "cell_type": "code",
      "metadata": {
        "id": "BnjnLBNC6PGe",
        "colab": {
          "base_uri": "https://localhost:8080/"
        },
        "outputId": "6ee97439-650b-4e3a-876d-887f2b05a212"
      },
      "source": [
        "#Criando um conjunto:\n",
        "ranking = {'The Shawshank Redemption', \n",
        "           'The Godfather', \n",
        "           'The Dark Knight', \n",
        "           'Angry Men', \n",
        "           'Schindlers List', \n",
        "           'The Lord of the Rings: The Return of the King', \n",
        "           'Forrest Gump'}\n",
        "print(ranking)"
      ],
      "execution_count": 42,
      "outputs": [
        {
          "output_type": "stream",
          "name": "stdout",
          "text": [
            "{'The Godfather', 'Schindlers List', 'The Dark Knight', 'The Shawshank Redemption', 'Angry Men', 'The Lord of the Rings: The Return of the King', 'Forrest Gump'}\n"
          ]
        }
      ]
    },
    {
      "cell_type": "code",
      "source": [
        "#Duplicando os 3 últimos registros:\n",
        "\n",
        "print(f'Before: {ranking}')\n",
        "\n",
        "ranking_2 = {'Schindlers List', 'The Lord of the Rings: The Return of the King', 'Forrest Gump'}\n",
        "\n",
        "ranking.add(list(ranking_2))\n",
        "#ranking.update(list(ranking_2))\n",
        "\n",
        "print(f'After: {ranking}')"
      ],
      "metadata": {
        "colab": {
          "base_uri": "https://localhost:8080/",
          "height": 252
        },
        "id": "XSobXQYl2-tv",
        "outputId": "767e51a4-2743-4e9c-bfb9-f4b76178b92e"
      },
      "execution_count": 30,
      "outputs": [
        {
          "output_type": "stream",
          "name": "stdout",
          "text": [
            "Before: {'The Godfather', 'Schindlers List', 'The Dark Knight', 'The Shawshank Redemption', 'Angry Men', 'The Lord of the Rings: The Return of the King', 'Forrest Gump'}\n"
          ]
        },
        {
          "output_type": "error",
          "ename": "TypeError",
          "evalue": "ignored",
          "traceback": [
            "\u001b[0;31m---------------------------------------------------------------------------\u001b[0m",
            "\u001b[0;31mTypeError\u001b[0m                                 Traceback (most recent call last)",
            "\u001b[0;32m<ipython-input-30-379ec644f705>\u001b[0m in \u001b[0;36m<cell line: 7>\u001b[0;34m()\u001b[0m\n\u001b[1;32m      5\u001b[0m \u001b[0mranking_2\u001b[0m \u001b[0;34m=\u001b[0m \u001b[0;34m{\u001b[0m\u001b[0;34m'Schindlers List'\u001b[0m\u001b[0;34m,\u001b[0m \u001b[0;34m'The Lord of the Rings: The Return of the King'\u001b[0m\u001b[0;34m,\u001b[0m \u001b[0;34m'Forrest Gump'\u001b[0m\u001b[0;34m}\u001b[0m\u001b[0;34m\u001b[0m\u001b[0;34m\u001b[0m\u001b[0m\n\u001b[1;32m      6\u001b[0m \u001b[0;34m\u001b[0m\u001b[0m\n\u001b[0;32m----> 7\u001b[0;31m \u001b[0mranking\u001b[0m\u001b[0;34m.\u001b[0m\u001b[0madd\u001b[0m\u001b[0;34m(\u001b[0m\u001b[0mlist\u001b[0m\u001b[0;34m(\u001b[0m\u001b[0mranking_2\u001b[0m\u001b[0;34m)\u001b[0m\u001b[0;34m)\u001b[0m\u001b[0;34m\u001b[0m\u001b[0;34m\u001b[0m\u001b[0m\n\u001b[0m\u001b[1;32m      8\u001b[0m \u001b[0;31m#ranking.update(list(ranking_2))\u001b[0m\u001b[0;34m\u001b[0m\u001b[0;34m\u001b[0m\u001b[0m\n\u001b[1;32m      9\u001b[0m \u001b[0;34m\u001b[0m\u001b[0m\n",
            "\u001b[0;31mTypeError\u001b[0m: unhashable type: 'list'"
          ]
        }
      ]
    },
    {
      "cell_type": "markdown",
      "metadata": {
        "id": "suxTfCJB6ZiX"
      },
      "source": [
        "Utiliza a conversão `set` e `list` para remover os valores duplicados. Imprima o resultado. "
      ]
    },
    {
      "cell_type": "code",
      "metadata": {
        "id": "ZvUGN-0n6joM",
        "colab": {
          "base_uri": "https://localhost:8080/"
        },
        "outputId": "76b61cd2-2920-4fdd-c520-718ce17b068f"
      },
      "source": [
        "print(f'Ranking set before: {ranking}')\n",
        "\n",
        "ranking_2 = {'Schindlers List', 'Inception', 'The Lord of the Rings: The Return of the King', 'Forrest Gump'}\n",
        "ranking_3 = ranking_2 - ranking\n",
        "\n",
        "print(f'Ranking_3: {ranking_3}')\n",
        "\n",
        "ranking.add(ranking_3.pop())\n",
        "\n",
        "print(f'Ranking set after: {ranking}')"
      ],
      "execution_count": 43,
      "outputs": [
        {
          "output_type": "stream",
          "name": "stdout",
          "text": [
            "Ranking set before: {'The Godfather', 'Schindlers List', 'The Dark Knight', 'The Shawshank Redemption', 'Angry Men', 'The Lord of the Rings: The Return of the King', 'Forrest Gump'}\n",
            "Ranking_3: {'Inception'}\n",
            "Ranking set after: {'The Godfather', 'Schindlers List', 'The Dark Knight', 'The Shawshank Redemption', 'Angry Men', 'Inception', 'The Lord of the Rings: The Return of the King', 'Forrest Gump'}\n"
          ]
        }
      ]
    },
    {
      "cell_type": "markdown",
      "metadata": {
        "id": "ShkK35eQ6pAM"
      },
      "source": [
        "---"
      ]
    },
    {
      "cell_type": "markdown",
      "metadata": {
        "id": "EL_FzmxL6rTv"
      },
      "source": [
        "## 3\\. Dicionários"
      ]
    },
    {
      "cell_type": "markdown",
      "metadata": {
        "id": "i8l0gFqRCpfT"
      },
      "source": [
        "Repita os exercícios da parte 1 (listas). Os elementos da lista `filmes` devem ser dicionários no seguinte formato: `{'nome': <nome-do-filme>, 'ano': <ano do filme>}, 'sinopse': <sinopse do filme>}`. "
      ]
    },
    {
      "cell_type": "code",
      "source": [
        "# Criando um dicionário\n",
        "filmes = [{'nome': 'The Shawshank Redemption', \n",
        "           'ano': 1994, \n",
        "           'sinopse':'Over the course of several years, two convicts form a friendship, seeking consolation and, eventually, redemption through basic compassion.'},\n",
        "          {'nome': 'The Dark Knight', \n",
        "           'ano': 2008, \n",
        "           'sinopse':'When the menace known as the Joker wreaks havoc and chaos on the people of Gotham, Batman must accept one of the greatest psychological and physical tests of his ability to fight injustice.'},\n",
        "          {'nome': 'The Godfather', \n",
        "           'ano': 1972, \n",
        "           'sinopse':'The aging patriarch of an organized crime dynasty in postwar New York City transfers control of his clandestine empire to his reluctant youngest son.'}]\n",
        "\n",
        "print(filmes)"
      ],
      "metadata": {
        "colab": {
          "base_uri": "https://localhost:8080/"
        },
        "id": "VsgNb8aKFJhI",
        "outputId": "034ea309-7e49-43c4-de32-c8f113e456b7"
      },
      "execution_count": 81,
      "outputs": [
        {
          "output_type": "stream",
          "name": "stdout",
          "text": [
            "[{'nome': 'The Shawshank Redemption', 'ano': 1994, 'sinopse': 'Over the course of several years, two convicts form a friendship, seeking consolation and, eventually, redemption through basic compassion.'}, {'nome': 'The Dark Knight', 'ano': 2008, 'sinopse': 'When the menace known as the Joker wreaks havoc and chaos on the people of Gotham, Batman must accept one of the greatest psychological and physical tests of his ability to fight injustice.'}, {'nome': 'The Godfather', 'ano': 1972, 'sinopse': 'The aging patriarch of an organized crime dynasty in postwar New York City transfers control of his clandestine empire to his reluctant youngest son.'}]\n"
          ]
        }
      ]
    }
  ]
}