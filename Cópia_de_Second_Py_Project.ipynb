{
  "nbformat": 4,
  "nbformat_minor": 0,
  "metadata": {
    "colab": {
      "provenance": [],
      "toc_visible": true,
      "authorship_tag": "ABX9TyMESonn06RNlzujI0An6ZaD",
      "include_colab_link": true
    },
    "kernelspec": {
      "name": "python3",
      "display_name": "Python 3"
    },
    "language_info": {
      "name": "python"
    }
  },
  "cells": [
    {
      "cell_type": "markdown",
      "metadata": {
        "id": "view-in-github",
        "colab_type": "text"
      },
      "source": [
        "<a href=\"https://colab.research.google.com/github/jefersontigik/Python_Samples/blob/main/C%C3%B3pia_de_Second_Py_Project.ipynb\" target=\"_parent\"><img src=\"https://colab.research.google.com/assets/colab-badge.svg\" alt=\"Open In Colab\"/></a>"
      ]
    },
    {
      "cell_type": "code",
      "execution_count": null,
      "metadata": {
        "id": "IuEI68uO6w7l"
      },
      "outputs": [],
      "source": []
    },
    {
      "cell_type": "markdown",
      "source": [
        "Esta é uma **célula** de texto\n",
        "\n",
        "\n",
        "1.   List item\n",
        "2.   List item\n",
        "\n"
      ],
      "metadata": {
        "id": "fXU6PZqa7AG0"
      }
    },
    {
      "cell_type": "code",
      "source": [
        "print(\"Olá Mundo!\")"
      ],
      "metadata": {
        "colab": {
          "base_uri": "https://localhost:8080/"
        },
        "id": "WNHLpl6L7Zi7",
        "outputId": "efaa4fa3-e9e1-464a-c80a-4123f700ed0c"
      },
      "execution_count": null,
      "outputs": [
        {
          "output_type": "stream",
          "name": "stdout",
          "text": [
            "Olá Mundo!\n"
          ]
        }
      ]
    },
    {
      "cell_type": "code",
      "source": [
        "idade = 30\n",
        "print(idade)\n",
        "\n",
        "idade = 22\n",
        "print(idade)\n",
        "\n",
        "nome = 'João'\n",
        "print(nome)"
      ],
      "metadata": {
        "colab": {
          "base_uri": "https://localhost:8080/"
        },
        "id": "qvxLahsMCrec",
        "outputId": "23367811-d346-45ce-ae85-0d19f341bda4"
      },
      "execution_count": null,
      "outputs": [
        {
          "output_type": "stream",
          "name": "stdout",
          "text": [
            "30\n",
            "22\n",
            "João\n"
          ]
        }
      ]
    },
    {
      "cell_type": "code",
      "source": [
        "preco = 1000\n",
        "tipo_preco = type(preco)\n",
        "\n",
        "print(preco)\n",
        "print(tipo_preco)\n",
        "\n",
        "juros = 8.05\n",
        "tipo_juros = type(juros)\n",
        "\n",
        "print(juros)\n",
        "print(tipo_juros)"
      ],
      "metadata": {
        "colab": {
          "base_uri": "https://localhost:8080/"
        },
        "id": "rQBIsR78Dfal",
        "outputId": "8f2cab32-bf9e-4252-b898-3fcaefc498a3"
      },
      "execution_count": null,
      "outputs": [
        {
          "output_type": "stream",
          "name": "stdout",
          "text": [
            "1000\n",
            "<class 'int'>\n",
            "8.05\n",
            "<class 'float'>\n"
          ]
        }
      ]
    },
    {
      "cell_type": "code",
      "source": [
        "primeiro_nome = 'José'\n",
        "\n",
        "print(primeiro_nome)\n",
        "print(type(primeiro_nome))\n",
        "\n",
        "pais = \"Brasil\"\n",
        "\n",
        "print(pais)\n",
        "print(type(pais))"
      ],
      "metadata": {
        "colab": {
          "base_uri": "https://localhost:8080/"
        },
        "id": "gKDH7g1jFb2H",
        "outputId": "7fcc0091-5528-4fab-f2ed-839ea97142e5"
      },
      "execution_count": null,
      "outputs": [
        {
          "output_type": "stream",
          "name": "stdout",
          "text": [
            "José\n",
            "<class 'str'>\n",
            "Brasil\n",
            "<class 'str'>\n"
          ]
        }
      ]
    },
    {
      "cell_type": "code",
      "source": [
        "usuario_maior_de_idade = True\n",
        "\n",
        "print(usuario_maior_de_idade)\n",
        "print(type(usuario_maior_de_idade))"
      ],
      "metadata": {
        "colab": {
          "base_uri": "https://localhost:8080/"
        },
        "id": "FnrO5rW5Ghf4",
        "outputId": "335bd25c-28eb-4fca-8496-15d570660fcc"
      },
      "execution_count": null,
      "outputs": [
        {
          "output_type": "stream",
          "name": "stdout",
          "text": [
            "True\n",
            "<class 'bool'>\n"
          ]
        }
      ]
    },
    {
      "cell_type": "code",
      "source": [
        "telefone_fixo = None\n",
        "\n",
        "print(telefone_fixo)\n",
        "print(type(telefone_fixo))"
      ],
      "metadata": {
        "colab": {
          "base_uri": "https://localhost:8080/"
        },
        "id": "iTnWoJeTHbcd",
        "outputId": "76b57ad5-89a5-4325-f921-2ddf04dfc13f"
      },
      "execution_count": null,
      "outputs": [
        {
          "output_type": "stream",
          "name": "stdout",
          "text": [
            "None\n",
            "<class 'NoneType'>\n"
          ]
        }
      ]
    },
    {
      "cell_type": "markdown",
      "source": [
        "## **Exemplo**: Carrinho de e-commerce."
      ],
      "metadata": {
        "id": "4uZlnsMWPWyY"
      }
    },
    {
      "cell_type": "code",
      "source": [
        "qtd_itens_carrinho_compra = 0\n",
        "\n",
        "qtd_itens_carrinho_compra = qtd_itens_carrinho_compra + 1\n",
        "print(qtd_itens_carrinho_compra)\n",
        "\n",
        "qtd_itens_carrinho_compra = qtd_itens_carrinho_compra + 1\n",
        "print(qtd_itens_carrinho_compra)"
      ],
      "metadata": {
        "colab": {
          "base_uri": "https://localhost:8080/"
        },
        "id": "ANhSfSWTPjw6",
        "outputId": "9c55b110-c996-4a09-8f14-88e89d7ae315"
      },
      "execution_count": null,
      "outputs": [
        {
          "output_type": "stream",
          "name": "stdout",
          "text": [
            "1\n",
            "2\n"
          ]
        }
      ]
    },
    {
      "cell_type": "code",
      "source": [
        "qtd_itens_carrinho_compra = 0\n",
        "\n",
        "qtd_itens_carrinho_compra += 1\n",
        "print(qtd_itens_carrinho_compra)\n",
        "\n",
        "qtd_itens_carrinho_compra += 1\n",
        "print(qtd_itens_carrinho_compra)"
      ],
      "metadata": {
        "colab": {
          "base_uri": "https://localhost:8080/"
        },
        "id": "NFhJPfcHP-uJ",
        "outputId": "ba7fd14b-eae3-4fb7-eb51-15a49c157de7"
      },
      "execution_count": null,
      "outputs": [
        {
          "output_type": "stream",
          "name": "stdout",
          "text": [
            "1\n",
            "2\n"
          ]
        }
      ]
    },
    {
      "cell_type": "markdown",
      "source": [
        "## **Exemplo**: Total a pagar por um produto."
      ],
      "metadata": {
        "id": "vHB0eC6vRwO7"
      }
    },
    {
      "cell_type": "code",
      "source": [
        "preco = 47\n",
        "quantidade = 0.250\n",
        "\n",
        "total_a_pagar = quantidade * preco\n",
        "\n",
        "print(total_a_pagar)"
      ],
      "metadata": {
        "colab": {
          "base_uri": "https://localhost:8080/"
        },
        "id": "POSdEkeTSAEm",
        "outputId": "938db1e7-25ee-4def-8749-9d35200eae04"
      },
      "execution_count": null,
      "outputs": [
        {
          "output_type": "stream",
          "name": "stdout",
          "text": [
            "11.75\n"
          ]
        }
      ]
    },
    {
      "cell_type": "code",
      "source": [
        "a = 3\n",
        "b = 2\n",
        "\n",
        "c = a / b\n",
        "print(c)\n",
        "print(type(c))\n",
        "\n",
        "d = a // b\n",
        "\n",
        "print(d)\n",
        "print(type(d))"
      ],
      "metadata": {
        "colab": {
          "base_uri": "https://localhost:8080/"
        },
        "id": "8d-so7UQTWI3",
        "outputId": "940d76fd-31d7-4a4f-82c9-11cb395840eb"
      },
      "execution_count": null,
      "outputs": [
        {
          "output_type": "stream",
          "name": "stdout",
          "text": [
            "1.5\n",
            "<class 'float'>\n",
            "1\n",
            "<class 'int'>\n"
          ]
        }
      ]
    },
    {
      "cell_type": "markdown",
      "source": [
        "## **Conversão**:"
      ],
      "metadata": {
        "id": "zgVqxmMrUe4Y"
      }
    },
    {
      "cell_type": "code",
      "source": [
        "num = input(\"Informe o valor: \")\n",
        "valor = 0.0\n",
        "try:\n",
        "  float(num)\n",
        "  print(\"Convertido\")\n",
        "  valor = float(num)\n",
        "except:\n",
        "  print(\"Não convertido!\")\n",
        "\n",
        "print(f'Valor informado: {valor}')"
      ],
      "metadata": {
        "colab": {
          "base_uri": "https://localhost:8080/"
        },
        "id": "46kn8CNRjglR",
        "outputId": "6ce5a76b-8b44-486b-8fb1-6f600246b231"
      },
      "execution_count": 10,
      "outputs": [
        {
          "output_type": "stream",
          "name": "stdout",
          "text": [
            "Informe o valor: oiy\n",
            "Não convertido!\n",
            "Valor informado: 0.0\n"
          ]
        }
      ]
    },
    {
      "cell_type": "code",
      "source": [
        "print(int(3.9))\n",
        "print(float(10))\n",
        "print(complex(1))"
      ],
      "metadata": {
        "colab": {
          "base_uri": "https://localhost:8080/"
        },
        "id": "LXQqgAAfUoNE",
        "outputId": "0a32b06e-289f-405e-e249-983d8ddf32fe"
      },
      "execution_count": null,
      "outputs": [
        {
          "output_type": "stream",
          "name": "stdout",
          "text": [
            "3\n",
            "10.0\n",
            "(1+0j)\n"
          ]
        }
      ]
    },
    {
      "cell_type": "markdown",
      "source": [
        "## **Revisando a motivação:**"
      ],
      "metadata": {
        "id": "W1fqS6Z2WbQ9"
      }
    },
    {
      "cell_type": "markdown",
      "source": [
        "Ticket médio diário em 19/01:"
      ],
      "metadata": {
        "id": "3L9cc4YqWwNQ"
      }
    },
    {
      "cell_type": "code",
      "source": [
        "soma_valor_vendas_19 =  153.98\n",
        "soma_qtd_vendas_19 = 3\n",
        "\n",
        "tkt_19 = soma_valor_vendas_19 / soma_qtd_vendas_19\n",
        "print(tkt_19)"
      ],
      "metadata": {
        "colab": {
          "base_uri": "https://localhost:8080/"
        },
        "id": "4nW4JPxCW9aM",
        "outputId": "a589e9a7-2e1f-4bd4-ec4c-c4ec182ca6fb"
      },
      "execution_count": null,
      "outputs": [
        {
          "output_type": "stream",
          "name": "stdout",
          "text": [
            "51.32666666666666\n"
          ]
        }
      ]
    },
    {
      "cell_type": "markdown",
      "source": [
        "Ticket médio diário em 20/01:"
      ],
      "metadata": {
        "id": "j0gJ8msiXjNS"
      }
    },
    {
      "cell_type": "code",
      "source": [
        "soma_valor_vendas_20 =  337.01\n",
        "soma_qtd_vendas_20 = 7\n",
        "\n",
        "tkt_20 = soma_valor_vendas_20 / soma_qtd_vendas_20\n",
        "print(tkt_20)"
      ],
      "metadata": {
        "colab": {
          "base_uri": "https://localhost:8080/"
        },
        "id": "zPHRM4UkXlxs",
        "outputId": "2141fbdd-0927-43a3-b56d-99ea7f426ef2"
      },
      "execution_count": null,
      "outputs": [
        {
          "output_type": "stream",
          "name": "stdout",
          "text": [
            "48.144285714285715\n"
          ]
        }
      ]
    },
    {
      "cell_type": "markdown",
      "source": [
        "Ticket médio diário em 20/01:"
      ],
      "metadata": {
        "id": "oVEerTMqYHnK"
      }
    },
    {
      "cell_type": "code",
      "source": [
        "soma_valor_vendas_23 =  295.33\n",
        "soma_qtd_vendas_23 = 5\n",
        "\n",
        "tkt_23 = soma_valor_vendas_23 / soma_qtd_vendas_23\n",
        "print(tkt_23)"
      ],
      "metadata": {
        "colab": {
          "base_uri": "https://localhost:8080/"
        },
        "id": "1gD9MF6RYIim",
        "outputId": "09e8416d-93a8-4ab8-9d6b-9a589eeb2705"
      },
      "execution_count": null,
      "outputs": [
        {
          "output_type": "stream",
          "name": "stdout",
          "text": [
            "59.065999999999995\n"
          ]
        }
      ]
    },
    {
      "cell_type": "markdown",
      "source": [
        "Ticket médio:"
      ],
      "metadata": {
        "id": "TdEnHVDqYjRT"
      }
    },
    {
      "cell_type": "code",
      "source": [
        "tktm = (tkt_19 + tkt_20 + tkt_23) / 3\n",
        "print(tktm)"
      ],
      "metadata": {
        "colab": {
          "base_uri": "https://localhost:8080/"
        },
        "id": "J54cgJH8Ymxd",
        "outputId": "7757fca7-9d69-46e7-9ec8-291715f99e08"
      },
      "execution_count": null,
      "outputs": [
        {
          "output_type": "stream",
          "name": "stdout",
          "text": [
            "52.8456507936508\n"
          ]
        }
      ]
    },
    {
      "cell_type": "markdown",
      "source": [
        "## **Estruturas de repetição:**"
      ],
      "metadata": {
        "id": "w9fIxeMoE-j7"
      }
    },
    {
      "cell_type": "code",
      "source": [
        "valor = 100\n",
        "\n",
        "if valor > 100:\n",
        "    print(\"Valor maior que 100\")\n",
        "elif valor == 100:\n",
        "    print(\"Valor é 100\")\n",
        "elif valor < 100:\n",
        "    print(\"Valor é menor que 100\")"
      ],
      "metadata": {
        "id": "5vyr4YMPFDbr"
      },
      "execution_count": null,
      "outputs": []
    },
    {
      "cell_type": "markdown",
      "source": [
        "## While loop:"
      ],
      "metadata": {
        "id": "VW2ZGd3oGOyz"
      }
    },
    {
      "cell_type": "code",
      "source": [
        "num =0\n",
        "num_max = int(input(\"Informe o número: \"))\n",
        "\n",
        "while num < num_max:\n",
        "    num += 1 \n",
        "    print('num = ', num)"
      ],
      "metadata": {
        "colab": {
          "base_uri": "https://localhost:8080/"
        },
        "id": "tZdt1lJeF3cS",
        "outputId": "b3b0facf-9bf9-4c0e-fd4f-1711bf3c2ce1"
      },
      "execution_count": null,
      "outputs": [
        {
          "output_type": "stream",
          "name": "stdout",
          "text": [
            "Informe o número: 7\n",
            "num =  1\n",
            "num =  2\n",
            "num =  3\n",
            "num =  4\n",
            "num =  5\n",
            "num =  6\n",
            "num =  7\n"
          ]
        }
      ]
    },
    {
      "cell_type": "markdown",
      "source": [
        "# while loop with else block:"
      ],
      "metadata": {
        "id": "m6aAu30VGHJl"
      }
    },
    {
      "cell_type": "code",
      "source": [
        "num = 0\n",
        "\n",
        "while num < 3:\n",
        "\tnum += 1  \n",
        "\tprint('num = ', num)\n",
        "else:\n",
        "    print('else block executed')"
      ],
      "metadata": {
        "colab": {
          "base_uri": "https://localhost:8080/"
        },
        "id": "XmPCKBWcGDTy",
        "outputId": "647e406f-bce9-480d-d487-2b9253a6a63e"
      },
      "execution_count": null,
      "outputs": [
        {
          "output_type": "stream",
          "name": "stdout",
          "text": [
            "num =  1\n",
            "num =  2\n",
            "num =  3\n",
            "else block executed\n"
          ]
        }
      ]
    },
    {
      "cell_type": "markdown",
      "source": [
        "## For Loops:"
      ],
      "metadata": {
        "id": "zwc6MW2WG75D"
      }
    },
    {
      "cell_type": "code",
      "source": [
        "nums = [10, 20, 30, 40, 50]\n",
        "\n",
        "for i in nums:\n",
        "    print(i)"
      ],
      "metadata": {
        "colab": {
          "base_uri": "https://localhost:8080/"
        },
        "id": "XFR00wb1G_NQ",
        "outputId": "32af04c1-78f9-471b-d03b-d75819fe06d6"
      },
      "execution_count": null,
      "outputs": [
        {
          "output_type": "stream",
          "name": "stdout",
          "text": [
            "10\n",
            "20\n",
            "30\n",
            "40\n",
            "50\n"
          ]
        }
      ]
    },
    {
      "cell_type": "markdown",
      "source": [
        "## For Loop with Tuple:"
      ],
      "metadata": {
        "id": "ku-_d79IH-Cg"
      }
    },
    {
      "cell_type": "code",
      "source": [
        "nums = (10, 20, 30, 40, 50)\n",
        "for i in nums:\n",
        "    print(i)"
      ],
      "metadata": {
        "colab": {
          "base_uri": "https://localhost:8080/"
        },
        "id": "4DVDELazHCMy",
        "outputId": "962d71be-2cfe-494f-92f1-9894b12b24e6"
      },
      "execution_count": null,
      "outputs": [
        {
          "output_type": "stream",
          "name": "stdout",
          "text": [
            "10\n",
            "20\n",
            "30\n",
            "40\n",
            "50\n"
          ]
        }
      ]
    },
    {
      "cell_type": "markdown",
      "source": [
        "## For Loop with String:"
      ],
      "metadata": {
        "id": "_uikWh3pIBxS"
      }
    },
    {
      "cell_type": "code",
      "source": [
        "for char in 'Hello':\n",
        "    print (char)"
      ],
      "metadata": {
        "colab": {
          "base_uri": "https://localhost:8080/"
        },
        "id": "aAHWZvEXHGmi",
        "outputId": "2e75869d-5fd5-45fa-bc3c-d8a13c84ef8e"
      },
      "execution_count": null,
      "outputs": [
        {
          "output_type": "stream",
          "name": "stdout",
          "text": [
            "H\n",
            "e\n",
            "l\n",
            "l\n",
            "o\n"
          ]
        }
      ]
    },
    {
      "cell_type": "markdown",
      "source": [
        "## For Loop with Dictionary:"
      ],
      "metadata": {
        "id": "39YZgXZ-IJvb"
      }
    },
    {
      "cell_type": "code",
      "source": [
        "numNames = { 1:'One', 2: 'Two', 3: 'Three'}\n",
        "\n",
        "for k,v in numNames.items():\n",
        "    print(\"key = \", k , \", value =\", v)"
      ],
      "metadata": {
        "colab": {
          "base_uri": "https://localhost:8080/"
        },
        "id": "Y46OeKBvHJCq",
        "outputId": "38d46d12-6ce2-4bc5-a456-bb1187f72a46"
      },
      "execution_count": null,
      "outputs": [
        {
          "output_type": "stream",
          "name": "stdout",
          "text": [
            "key =  1 , value = One\n",
            "key =  2 , value = Two\n",
            "key =  3 , value = Three\n"
          ]
        }
      ]
    },
    {
      "cell_type": "code",
      "source": [
        "#num = 5\n",
        "num = int(input('Informe um valor: '))\n",
        "\n",
        "\n",
        "for i in range(num):\n",
        "  print(f' {i}')"
      ],
      "metadata": {
        "colab": {
          "base_uri": "https://localhost:8080/"
        },
        "id": "oi5i3LDHJmLs",
        "outputId": "cf9aeb1c-41fc-47e1-ec5b-64f8b99efd77"
      },
      "execution_count": null,
      "outputs": [
        {
          "output_type": "stream",
          "name": "stdout",
          "text": [
            "Informe um valor: 5\n",
            " 0\n",
            " 1\n",
            " 2\n",
            " 3\n",
            " 4\n"
          ]
        }
      ]
    },
    {
      "cell_type": "markdown",
      "source": [
        "## Try block:"
      ],
      "metadata": {
        "id": "gMnECh5sL5fT"
      }
    },
    {
      "cell_type": "code",
      "source": [
        "try:\n",
        "  print(x)\n",
        "except:\n",
        "  print(\"An exception occurred\")"
      ],
      "metadata": {
        "id": "O76AY-YYL9Xj"
      },
      "execution_count": null,
      "outputs": []
    },
    {
      "cell_type": "markdown",
      "source": [
        "## Resolução exercício: "
      ],
      "metadata": {
        "id": "PuQ-vSniQFVs"
      }
    },
    {
      "cell_type": "code",
      "source": [
        "vvt = [None, 834.47, 15379.23]\n",
        "qtv = [3, None, 5]\n",
        "tm = [320.72, 120.41, None]\n",
        "\n",
        "vvt[0] = qtv[0] * tm[0]\n",
        "qtv[1] = int(vvt[1] // tm[1])\n",
        "tm[2] = round((vvt[2] / qtv[2]), 2)\n",
        "#tm[2] = vvt[2] / qtv[2]\n",
        "\n",
        "print(f'Valor total: {vvt[0]}\\n')\n",
        "print(f'Quantidade total: {qtv[1]}\\n')\n",
        "print(f'ticket Médio: {tm[2]}\\n')\n"
      ],
      "metadata": {
        "colab": {
          "base_uri": "https://localhost:8080/"
        },
        "id": "NzQTOBGtQNfK",
        "outputId": "c023fe3e-7e55-4be4-92ed-7fb97009960e"
      },
      "execution_count": null,
      "outputs": [
        {
          "output_type": "stream",
          "name": "stdout",
          "text": [
            "Valor total: 962.1600000000001\n",
            "\n",
            "Quantidade total: 6\n",
            "\n",
            "ticket Médio: 3075.85\n",
            "\n"
          ]
        }
      ]
    },
    {
      "cell_type": "markdown",
      "source": [
        "# Teste:"
      ],
      "metadata": {
        "id": "u3Oo7L3Ul2rR"
      }
    },
    {
      "cell_type": "code",
      "source": [
        "num_max = int(input(\"Informe valor: \"))\n",
        "\n",
        "for num in range(1, num_max):\n",
        "  if num_max % num == 0:\n",
        "    print(\"Certo\")\n",
        "  else:\n",
        "    print(\"Errado\")\n",
        "  "
      ],
      "metadata": {
        "colab": {
          "base_uri": "https://localhost:8080/"
        },
        "id": "qeXaG2CEl4vq",
        "outputId": "a03890ae-3457-4481-fc76-f605f6458273"
      },
      "execution_count": null,
      "outputs": [
        {
          "output_type": "stream",
          "name": "stdout",
          "text": [
            "Informe valor: 7\n",
            "Certo\n",
            "Errado\n",
            "Errado\n",
            "Errado\n",
            "Errado\n",
            "Errado\n"
          ]
        }
      ]
    },
    {
      "cell_type": "code",
      "source": [
        "num_max = int(input(\"Informe valor: \"))\n",
        "\n",
        "i = range(1, num_max)\n",
        "\n",
        "for num in i:\n",
        "  if num_max % num == 0:\n",
        "    print(\"Certo\")\n",
        "  else:\n",
        "    print(\"Errado\")\n"
      ],
      "metadata": {
        "colab": {
          "base_uri": "https://localhost:8080/"
        },
        "id": "F3Uw7S63nZ4h",
        "outputId": "fdac7af2-4d51-42e1-a504-8b7b3952c142"
      },
      "execution_count": null,
      "outputs": [
        {
          "output_type": "stream",
          "name": "stdout",
          "text": [
            "Informe valor: 8\n",
            "Certo\n",
            "Certo\n",
            "Errado\n",
            "Certo\n",
            "Errado\n",
            "Errado\n",
            "Errado\n"
          ]
        }
      ]
    },
    {
      "cell_type": "markdown",
      "source": [
        "## **Arrays em Python:**"
      ],
      "metadata": {
        "id": "sI2v7MXvyneB"
      }
    },
    {
      "cell_type": "code",
      "source": [
        "import numpy as np\n",
        "\n",
        "num = int(input(\"Informe tamanho: \"))\n",
        "\n",
        "nota1 = np.array([])\n",
        "nota2 = np.array([])\n",
        "#arr = np.array([])\n",
        "\n",
        "for i in range(num):\n",
        "  nota1 = np.array([float(input('Informe a 1ª nota: '))])\n",
        "  nota2 = np.array([float(input('Informe a 2ª nota: '))])\n",
        "\n",
        "for i in range(len(nota1)):\n",
        "  print(f'R: {nota1}, {nota2}\\n')\n"
      ],
      "metadata": {
        "colab": {
          "base_uri": "https://localhost:8080/"
        },
        "id": "SqYrQZe68QPK",
        "outputId": "3d19de96-5d2c-49e2-ebbb-d2e254482e34"
      },
      "execution_count": null,
      "outputs": [
        {
          "output_type": "stream",
          "name": "stdout",
          "text": [
            "Informe tamanho: 2\n",
            "Informe a 1ª nota: 2.\n",
            "Informe a 2ª nota: 3.4\n",
            "Informe a 1ª nota: 5.6\n",
            "Informe a 2ª nota: 7.8\n",
            "R: [5.6], [7.8]\n",
            "\n"
          ]
        }
      ]
    },
    {
      "cell_type": "code",
      "source": [
        "\n",
        "import array as arr\n",
        "\n",
        "from IPython.display import clear_output\n",
        "\n",
        "\n",
        "nota1 = arr.array('d')\n",
        "nota2 = arr.array('d')\n",
        "media = arr.array('d')\n",
        "\n",
        "def imprime():\n",
        "  print('-------------------------------------')\n",
        "\n",
        "num = int(input('Informe quantos registros: '))\n",
        "clear_output()\n",
        "print(f'Tamanho: {num}\\n')\n",
        "\n",
        "for i in range(num):\n",
        "\n",
        "  imprime()\n",
        "  print(f'Registro {i + 1}:')\n",
        "  nota1.append(float(input('Nota 1: ')))\n",
        "  nota2.append(float(input('Nota 2: ')))\n",
        "  media.append((nota1[i] + nota2[i]) / 2)\n",
        "  imprime()\n",
        "\n",
        "for i in range(num):\n",
        "\n",
        "  if media[i] >= 8:\n",
        "    res = 'Aprovado'\n",
        "  elif media[i] < 6:\n",
        "    res = 'Reprovado'\n",
        "  else:\n",
        "    res = 'Recuperação'\n",
        "\n",
        "  print(f'- > Aluno {i + 1} -  N1: {nota1[i]}, N2: {nota2[i]}, Média: {round(media[i], 1)}, Parecer: {res}')\n",
        "  imprime()\n"
      ],
      "metadata": {
        "colab": {
          "base_uri": "https://localhost:8080/"
        },
        "id": "uvCNnLD6VUuw",
        "outputId": "ad338ab9-f90b-4c01-92a7-d5b5f8de363e"
      },
      "execution_count": null,
      "outputs": [
        {
          "output_type": "stream",
          "name": "stdout",
          "text": [
            "Tamanho: 2\n",
            "\n",
            "-------------------------------------\n",
            "Registro 1:\n",
            "Nota 1: 5.6\n",
            "Nota 2: 6.7\n",
            "-------------------------------------\n",
            "-------------------------------------\n",
            "Registro 2:\n",
            "Nota 1: 7.8\n",
            "Nota 2: 8.9\n",
            "-------------------------------------\n",
            "- > Aluno 1 -  N1: 5.6, N2: 6.7, Média: 6.2, Parecer: Recuperação\n",
            "-------------------------------------\n",
            "- > Aluno 2 -  N1: 7.8, N2: 8.9, Média: 8.3, Parecer: Aprovado\n",
            "-------------------------------------\n"
          ]
        }
      ]
    },
    {
      "cell_type": "markdown",
      "source": [
        "## **Funções:**"
      ],
      "metadata": {
        "id": "SKfa4yH8lotU"
      }
    },
    {
      "cell_type": "code",
      "source": [
        "def my_function():\n",
        "  print(\"Hello from a function\")"
      ],
      "metadata": {
        "id": "VNMnO3PzlzcM"
      },
      "execution_count": null,
      "outputs": []
    },
    {
      "cell_type": "code",
      "source": [
        "def my_function():\n",
        "  print(\"Hello from a function\")\n",
        "\n",
        "my_function()"
      ],
      "metadata": {
        "id": "gC33koFJl2-c"
      },
      "execution_count": null,
      "outputs": []
    },
    {
      "cell_type": "code",
      "source": [
        "def my_function(fname):\n",
        "  print(fname + \" Refsnes\")\n",
        "\n",
        "my_function(\"Emil\")\n",
        "my_function(\"Tobias\")\n",
        "my_function(\"Linus\")"
      ],
      "metadata": {
        "id": "zSs1sLoEl8xD"
      },
      "execution_count": null,
      "outputs": []
    },
    {
      "cell_type": "code",
      "source": [
        "def my_function(fname, lname):\n",
        "  print(fname + \" \" + lname)\n",
        "\n",
        "my_function(\"Emil\", \"Refsnes\")"
      ],
      "metadata": {
        "id": "7gi-Ti9lmG0L"
      },
      "execution_count": null,
      "outputs": []
    },
    {
      "cell_type": "code",
      "source": [
        "def my_function(*kids):\n",
        "  print(\"The youngest child is \" + kids[2])\n",
        "\n",
        "my_function(\"Emil\", \"Tobias\", \"Linus\")"
      ],
      "metadata": {
        "id": "S_hsgcC4mSv5"
      },
      "execution_count": null,
      "outputs": []
    },
    {
      "cell_type": "code",
      "source": [
        "def minha_funcao():\n",
        "  return print(\"Mostra resultado\")"
      ],
      "metadata": {
        "id": "Tlcl4aXmlZRi"
      },
      "execution_count": null,
      "outputs": []
    },
    {
      "cell_type": "code",
      "source": [
        "def minha_funcao2(variavel):\n",
        " print(\"Mostra resultado\")"
      ],
      "metadata": {
        "id": "Ffl3lYADmNry"
      },
      "execution_count": null,
      "outputs": []
    },
    {
      "cell_type": "code",
      "source": [
        "def imprime(i):\n",
        "  print('==================================')\n",
        "  print(f'Aluno {i}: ')\n",
        "  "
      ],
      "metadata": {
        "id": "vVGycZYymX4A"
      },
      "execution_count": null,
      "outputs": []
    },
    {
      "cell_type": "markdown",
      "source": [
        "# Array de String:"
      ],
      "metadata": {
        "id": "tnBo4XgnIFYL"
      }
    },
    {
      "cell_type": "code",
      "source": [
        "import array as arr\n",
        "\n",
        "nome = list()\n",
        "\n",
        "num = int(input('Informe quantos registros: '))\n",
        "\n",
        "for i in range(num):\n",
        "  nome.append(input('Informe o Nome:'))\n",
        "\n",
        "clear_output()\n",
        "\n",
        "for i in nome:\n",
        "  print(f'Nome informado: {i}')"
      ],
      "metadata": {
        "id": "0M1Q248Cqykn",
        "outputId": "6ba72a88-d22d-4f8c-eaf3-2a50208470a6",
        "colab": {
          "base_uri": "https://localhost:8080/"
        }
      },
      "execution_count": null,
      "outputs": [
        {
          "output_type": "stream",
          "name": "stdout",
          "text": [
            "Nome informado: Ana\n",
            "Nome informado: Paulo\n"
          ]
        }
      ]
    },
    {
      "cell_type": "markdown",
      "source": [
        "# **CRUD:**"
      ],
      "metadata": {
        "id": "-YR4reqYJJKk"
      }
    },
    {
      "cell_type": "code",
      "source": [
        "import sqlite3\n",
        "db = sqlite3.connect('test.db')\n",
        "\n",
        "# Criando a tabela 'Student':\n",
        "\n",
        "try:        \n",
        "    cur =db.cursor()\n",
        "    cur.execute('''CREATE TABLE student (\n",
        "    StudentID INTEGER PRIMARY KEY AUTOINCREMENT,\n",
        "    name TEXT (20) NOT NULL,\n",
        "    age INTEGER,\n",
        "    marks REAL);''')\n",
        "    print ('table created successfully')\n",
        "except:\n",
        "    print ('error in operation')\n",
        "    db.rollback()\n",
        "\n",
        "# Gravando dados na tabela 'Student'\n",
        "\n",
        "qry=\"insert into student (name, age, marks) values('Rajeev', 20, 50);\"\n",
        "\n",
        "try:\n",
        "    cur=db.cursor()\n",
        "    cur.execute(qry)\n",
        "    db.commit()\n",
        "    print (\"one record added successfully\")\n",
        "except:\n",
        "    print (\"error in operation\")\n",
        "    db.rollback()\n",
        "\n",
        "#Lendo a tabela 'Student'\n",
        "\n",
        "sql=\"SELECT * from student;\"\n",
        "\n",
        "cur = db.cursor()\n",
        "\n",
        "cur.execute(sql)\n",
        "\n",
        "while True:\n",
        "    record=cur.fetchone()\n",
        "    if record==None:\n",
        "        break\n",
        "    print (record)\n",
        "\n",
        "# Atualizando a tabela 'Student'\n",
        "\n",
        "qry = \"update student set age=? where name=?;\"\n",
        "\n",
        "try:\n",
        "    cur=db.cursor()\n",
        "    cur.execute(qry, (19,'Deepak'))\n",
        "    db.commit()\n",
        "    print(\"record updated successfully\")\n",
        "except:\n",
        "    print(\"error in operation\")\n",
        "    db.rollback()\n",
        "\n",
        "# Apagando dados da tabela 'Student'\n",
        "\n",
        "qry = \"DELETE from student where name=?;\"\n",
        "\n",
        "try:\n",
        "    cur=db.cursor()\n",
        "    cur.execute(qry, ('Bill',))\n",
        "    db.commit()\n",
        "    print(\"record deleted successfully\")\n",
        "except:\n",
        "    print(\"error in operation\")\n",
        "    db.rollback()\n",
        "\n",
        "\n",
        "db.close()"
      ],
      "metadata": {
        "colab": {
          "base_uri": "https://localhost:8080/"
        },
        "id": "RWs3lVIAJYAC",
        "outputId": "fe23db79-089e-4846-e4d5-b4aaa4b4bdfd"
      },
      "execution_count": null,
      "outputs": [
        {
          "output_type": "stream",
          "name": "stdout",
          "text": [
            "error in operation\n",
            "one record added successfully\n",
            "(1, 'Rajeev', 20, 50.0)\n",
            "(2, 'Rajeev', 20, 50.0)\n",
            "record updated successfully\n",
            "record deleted successfully\n"
          ]
        }
      ]
    },
    {
      "cell_type": "markdown",
      "source": [
        "## **Switch Case**"
      ],
      "metadata": {
        "id": "4XViePd3Ppo_"
      }
    },
    {
      "cell_type": "code",
      "source": [
        "lang = input(\"What's the programming language you want to learn? \")\n",
        "\n",
        "match lang:\n",
        "    case \"JavaScript\":\n",
        "        print(\"You can become a web developer.\")\n",
        "\n",
        "    case \"Python\":\n",
        "        print(\"You can become a Data Scientist\")\n",
        "\n",
        "    case \"PHP\":\n",
        "        print(\"You can become a backend developer\")\n",
        "    \n",
        "    case \"Solidity\":\n",
        "        print(\"You can become a Blockchain developer\")\n",
        "\n",
        "    case \"Java\":\n",
        "        print(\"You can become a mobile app developer\")\n",
        "    case _:\n",
        "        print(\"The language doesn't matter, what matters is solving problems.\")"
      ],
      "metadata": {
        "id": "upWFlFrCPzaH",
        "colab": {
          "base_uri": "https://localhost:8080/",
          "height": 130
        },
        "outputId": "703ce93c-2139-4e28-b058-e755c76add92"
      },
      "execution_count": 13,
      "outputs": [
        {
          "output_type": "error",
          "ename": "SyntaxError",
          "evalue": "ignored",
          "traceback": [
            "\u001b[0;36m  File \u001b[0;32m\"<ipython-input-13-93730fafe686>\"\u001b[0;36m, line \u001b[0;32m3\u001b[0m\n\u001b[0;31m    match lang:\u001b[0m\n\u001b[0m          ^\u001b[0m\n\u001b[0;31mSyntaxError\u001b[0m\u001b[0;31m:\u001b[0m invalid syntax\n"
          ]
        }
      ]
    },
    {
      "cell_type": "code",
      "source": [
        "def provideAccess(user):\n",
        "    return {\n",
        "        \"username\": user,\n",
        "        \"password\": \"admin\"\n",
        "    }\n",
        " \n",
        " \n",
        "def runMatch():\n",
        "    user = str(input(\"Write your username -: \"))\n",
        " \n",
        "    # match statement starts here .\n",
        "    match user:\n",
        "        case \"Om\":\n",
        "            print(\"Om do not have access  to the database \\\n",
        "            only for the api code.\")\n",
        "        case \"Vishal\":\n",
        "            print(\n",
        "                \"Vishal do not have access to the database , \\\n",
        "                only for the frontend code.\")\n",
        " \n",
        "        case \"Rishabh\":\n",
        "            print(\"Rishabh have the access to the database\")\n",
        "            print(provideAccess(\"Rishabh\"))\n",
        " \n",
        "        case _:\n",
        "            print(\"You do not have any access to the code\")\n",
        " \n",
        " \n",
        "if __name__ == \"__main__\":\n",
        "    for _ in range(3):\n",
        "        runMatch()"
      ],
      "metadata": {
        "id": "6yNc0DITtuFh"
      },
      "execution_count": null,
      "outputs": []
    }
  ]
}