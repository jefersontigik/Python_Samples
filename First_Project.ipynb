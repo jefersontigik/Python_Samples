{
  "nbformat": 4,
  "nbformat_minor": 0,
  "metadata": {
    "colab": {
      "provenance": [],
      "toc_visible": true,
      "authorship_tag": "ABX9TyPYtANz3bBe4fqZJ9tM1AwV",
      "include_colab_link": true
    },
    "kernelspec": {
      "name": "python3",
      "display_name": "Python 3"
    },
    "language_info": {
      "name": "python"
    }
  },
  "cells": [
    {
      "cell_type": "markdown",
      "metadata": {
        "id": "view-in-github",
        "colab_type": "text"
      },
      "source": [
        "<a href=\"https://colab.research.google.com/github/jefersontigik/Python_Samples/blob/main/First_Project.ipynb\" target=\"_parent\"><img src=\"https://colab.research.google.com/assets/colab-badge.svg\" alt=\"Open In Colab\"/></a>"
      ]
    },
    {
      "cell_type": "code",
      "execution_count": null,
      "metadata": {
        "id": "IuEI68uO6w7l"
      },
      "outputs": [],
      "source": []
    },
    {
      "cell_type": "markdown",
      "source": [
        "Esta é uma **célula** de texto\n",
        "\n",
        "\n",
        "1.   List item\n",
        "2.   List item\n",
        "\n"
      ],
      "metadata": {
        "id": "fXU6PZqa7AG0"
      }
    },
    {
      "cell_type": "code",
      "source": [
        "print(\"Olá Mundo!\")"
      ],
      "metadata": {
        "colab": {
          "base_uri": "https://localhost:8080/"
        },
        "id": "WNHLpl6L7Zi7",
        "outputId": "efaa4fa3-e9e1-464a-c80a-4123f700ed0c"
      },
      "execution_count": null,
      "outputs": [
        {
          "output_type": "stream",
          "name": "stdout",
          "text": [
            "Olá Mundo!\n"
          ]
        }
      ]
    },
    {
      "cell_type": "code",
      "source": [
        "idade = 30\n",
        "print(idade)\n",
        "\n",
        "idade = 22\n",
        "print(idade)\n",
        "\n",
        "nome = 'João'\n",
        "print(nome)"
      ],
      "metadata": {
        "colab": {
          "base_uri": "https://localhost:8080/"
        },
        "id": "qvxLahsMCrec",
        "outputId": "23367811-d346-45ce-ae85-0d19f341bda4"
      },
      "execution_count": null,
      "outputs": [
        {
          "output_type": "stream",
          "name": "stdout",
          "text": [
            "30\n",
            "22\n",
            "João\n"
          ]
        }
      ]
    },
    {
      "cell_type": "code",
      "source": [
        "preco = 1000\n",
        "tipo_preco = type(preco)\n",
        "\n",
        "print(preco)\n",
        "print(tipo_preco)\n",
        "\n",
        "juros = 8.05\n",
        "tipo_juros = type(juros)\n",
        "\n",
        "print(juros)\n",
        "print(tipo_juros)"
      ],
      "metadata": {
        "colab": {
          "base_uri": "https://localhost:8080/"
        },
        "id": "rQBIsR78Dfal",
        "outputId": "8f2cab32-bf9e-4252-b898-3fcaefc498a3"
      },
      "execution_count": null,
      "outputs": [
        {
          "output_type": "stream",
          "name": "stdout",
          "text": [
            "1000\n",
            "<class 'int'>\n",
            "8.05\n",
            "<class 'float'>\n"
          ]
        }
      ]
    },
    {
      "cell_type": "code",
      "source": [
        "primeiro_nome = 'José'\n",
        "\n",
        "print(primeiro_nome)\n",
        "print(type(primeiro_nome))\n",
        "\n",
        "pais = \"Brasil\"\n",
        "\n",
        "print(pais)\n",
        "print(type(pais))"
      ],
      "metadata": {
        "colab": {
          "base_uri": "https://localhost:8080/"
        },
        "id": "gKDH7g1jFb2H",
        "outputId": "7fcc0091-5528-4fab-f2ed-839ea97142e5"
      },
      "execution_count": null,
      "outputs": [
        {
          "output_type": "stream",
          "name": "stdout",
          "text": [
            "José\n",
            "<class 'str'>\n",
            "Brasil\n",
            "<class 'str'>\n"
          ]
        }
      ]
    },
    {
      "cell_type": "code",
      "source": [
        "usuario_maior_de_idade = True\n",
        "\n",
        "print(usuario_maior_de_idade)\n",
        "print(type(usuario_maior_de_idade))"
      ],
      "metadata": {
        "colab": {
          "base_uri": "https://localhost:8080/"
        },
        "id": "FnrO5rW5Ghf4",
        "outputId": "335bd25c-28eb-4fca-8496-15d570660fcc"
      },
      "execution_count": null,
      "outputs": [
        {
          "output_type": "stream",
          "name": "stdout",
          "text": [
            "True\n",
            "<class 'bool'>\n"
          ]
        }
      ]
    },
    {
      "cell_type": "code",
      "source": [
        "telefone_fixo = None\n",
        "\n",
        "print(telefone_fixo)\n",
        "print(type(telefone_fixo))"
      ],
      "metadata": {
        "colab": {
          "base_uri": "https://localhost:8080/"
        },
        "id": "iTnWoJeTHbcd",
        "outputId": "76b57ad5-89a5-4325-f921-2ddf04dfc13f"
      },
      "execution_count": null,
      "outputs": [
        {
          "output_type": "stream",
          "name": "stdout",
          "text": [
            "None\n",
            "<class 'NoneType'>\n"
          ]
        }
      ]
    },
    {
      "cell_type": "markdown",
      "source": [
        "## **Exemplo**: Carrinho de e-commerce."
      ],
      "metadata": {
        "id": "4uZlnsMWPWyY"
      }
    },
    {
      "cell_type": "code",
      "source": [
        "qtd_itens_carrinho_compra = 0\n",
        "\n",
        "qtd_itens_carrinho_compra = qtd_itens_carrinho_compra + 1\n",
        "print(qtd_itens_carrinho_compra)\n",
        "\n",
        "qtd_itens_carrinho_compra = qtd_itens_carrinho_compra + 1\n",
        "print(qtd_itens_carrinho_compra)"
      ],
      "metadata": {
        "colab": {
          "base_uri": "https://localhost:8080/"
        },
        "id": "ANhSfSWTPjw6",
        "outputId": "9c55b110-c996-4a09-8f14-88e89d7ae315"
      },
      "execution_count": 11,
      "outputs": [
        {
          "output_type": "stream",
          "name": "stdout",
          "text": [
            "1\n",
            "2\n"
          ]
        }
      ]
    },
    {
      "cell_type": "code",
      "source": [
        "qtd_itens_carrinho_compra = 0\n",
        "\n",
        "qtd_itens_carrinho_compra += 1\n",
        "print(qtd_itens_carrinho_compra)\n",
        "\n",
        "qtd_itens_carrinho_compra += 1\n",
        "print(qtd_itens_carrinho_compra)"
      ],
      "metadata": {
        "colab": {
          "base_uri": "https://localhost:8080/"
        },
        "id": "NFhJPfcHP-uJ",
        "outputId": "ba7fd14b-eae3-4fb7-eb51-15a49c157de7"
      },
      "execution_count": 12,
      "outputs": [
        {
          "output_type": "stream",
          "name": "stdout",
          "text": [
            "1\n",
            "2\n"
          ]
        }
      ]
    },
    {
      "cell_type": "markdown",
      "source": [
        "## **Exemplo**: Total a pagar por um produto."
      ],
      "metadata": {
        "id": "vHB0eC6vRwO7"
      }
    },
    {
      "cell_type": "code",
      "source": [
        "preco = 47\n",
        "quantidade = 0.250\n",
        "\n",
        "total_a_pagar = quantidade * preco\n",
        "\n",
        "print(total_a_pagar)"
      ],
      "metadata": {
        "colab": {
          "base_uri": "https://localhost:8080/"
        },
        "id": "POSdEkeTSAEm",
        "outputId": "938db1e7-25ee-4def-8749-9d35200eae04"
      },
      "execution_count": 13,
      "outputs": [
        {
          "output_type": "stream",
          "name": "stdout",
          "text": [
            "11.75\n"
          ]
        }
      ]
    },
    {
      "cell_type": "code",
      "source": [
        "a = 3\n",
        "b = 2\n",
        "\n",
        "c = a / b\n",
        "print(c)\n",
        "print(type(c))\n",
        "\n",
        "d = a // b\n",
        "\n",
        "print(d)\n",
        "print(type(d))"
      ],
      "metadata": {
        "colab": {
          "base_uri": "https://localhost:8080/"
        },
        "id": "8d-so7UQTWI3",
        "outputId": "940d76fd-31d7-4a4f-82c9-11cb395840eb"
      },
      "execution_count": 15,
      "outputs": [
        {
          "output_type": "stream",
          "name": "stdout",
          "text": [
            "1.5\n",
            "<class 'float'>\n",
            "1\n",
            "<class 'int'>\n"
          ]
        }
      ]
    },
    {
      "cell_type": "markdown",
      "source": [
        "## **Conversão**:"
      ],
      "metadata": {
        "id": "zgVqxmMrUe4Y"
      }
    },
    {
      "cell_type": "code",
      "source": [
        "print(int(3.9))\n",
        "print(float(10))\n",
        "print(complex(1))"
      ],
      "metadata": {
        "colab": {
          "base_uri": "https://localhost:8080/"
        },
        "id": "LXQqgAAfUoNE",
        "outputId": "0a32b06e-289f-405e-e249-983d8ddf32fe"
      },
      "execution_count": 16,
      "outputs": [
        {
          "output_type": "stream",
          "name": "stdout",
          "text": [
            "3\n",
            "10.0\n",
            "(1+0j)\n"
          ]
        }
      ]
    },
    {
      "cell_type": "markdown",
      "source": [
        "## **Revisando a motivação:**"
      ],
      "metadata": {
        "id": "W1fqS6Z2WbQ9"
      }
    },
    {
      "cell_type": "markdown",
      "source": [
        "Ticket médio diário em 19/01:"
      ],
      "metadata": {
        "id": "3L9cc4YqWwNQ"
      }
    },
    {
      "cell_type": "code",
      "source": [
        "soma_valor_vendas_19 =  153.98\n",
        "soma_qtd_vendas_19 = 3\n",
        "\n",
        "tkt_19 = soma_valor_vendas_19 / soma_qtd_vendas_19\n",
        "print(tkt_19)"
      ],
      "metadata": {
        "colab": {
          "base_uri": "https://localhost:8080/"
        },
        "id": "4nW4JPxCW9aM",
        "outputId": "a589e9a7-2e1f-4bd4-ec4c-c4ec182ca6fb"
      },
      "execution_count": 17,
      "outputs": [
        {
          "output_type": "stream",
          "name": "stdout",
          "text": [
            "51.32666666666666\n"
          ]
        }
      ]
    },
    {
      "cell_type": "markdown",
      "source": [
        "Ticket médio diário em 20/01:"
      ],
      "metadata": {
        "id": "j0gJ8msiXjNS"
      }
    },
    {
      "cell_type": "code",
      "source": [
        "soma_valor_vendas_20 =  337.01\n",
        "soma_qtd_vendas_20 = 7\n",
        "\n",
        "tkt_20 = soma_valor_vendas_20 / soma_qtd_vendas_20\n",
        "print(tkt_20)"
      ],
      "metadata": {
        "colab": {
          "base_uri": "https://localhost:8080/"
        },
        "id": "zPHRM4UkXlxs",
        "outputId": "2141fbdd-0927-43a3-b56d-99ea7f426ef2"
      },
      "execution_count": 18,
      "outputs": [
        {
          "output_type": "stream",
          "name": "stdout",
          "text": [
            "48.144285714285715\n"
          ]
        }
      ]
    },
    {
      "cell_type": "markdown",
      "source": [
        "Ticket médio diário em 20/01:"
      ],
      "metadata": {
        "id": "oVEerTMqYHnK"
      }
    },
    {
      "cell_type": "code",
      "source": [
        "soma_valor_vendas_23 =  295.33\n",
        "soma_qtd_vendas_23 = 5\n",
        "\n",
        "tkt_23 = soma_valor_vendas_23 / soma_qtd_vendas_23\n",
        "print(tkt_23)"
      ],
      "metadata": {
        "colab": {
          "base_uri": "https://localhost:8080/"
        },
        "id": "1gD9MF6RYIim",
        "outputId": "09e8416d-93a8-4ab8-9d6b-9a589eeb2705"
      },
      "execution_count": 19,
      "outputs": [
        {
          "output_type": "stream",
          "name": "stdout",
          "text": [
            "59.065999999999995\n"
          ]
        }
      ]
    },
    {
      "cell_type": "markdown",
      "source": [
        "Ticket médio:"
      ],
      "metadata": {
        "id": "TdEnHVDqYjRT"
      }
    },
    {
      "cell_type": "code",
      "source": [
        "tktm = (tkt_19 + tkt_20 + tkt_23) / 3\n",
        "print(tktm)"
      ],
      "metadata": {
        "colab": {
          "base_uri": "https://localhost:8080/"
        },
        "id": "J54cgJH8Ymxd",
        "outputId": "7757fca7-9d69-46e7-9ec8-291715f99e08"
      },
      "execution_count": 20,
      "outputs": [
        {
          "output_type": "stream",
          "name": "stdout",
          "text": [
            "52.8456507936508\n"
          ]
        }
      ]
    }
  ]
}