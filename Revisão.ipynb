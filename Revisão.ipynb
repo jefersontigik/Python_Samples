{
  "nbformat": 4,
  "nbformat_minor": 0,
  "metadata": {
    "colab": {
      "provenance": [],
      "toc_visible": true,
      "authorship_tag": "ABX9TyNJRFCY+o2Wzr3CBvZhXLg1",
      "include_colab_link": true
    },
    "kernelspec": {
      "name": "python3",
      "display_name": "Python 3"
    },
    "language_info": {
      "name": "python"
    }
  },
  "cells": [
    {
      "cell_type": "markdown",
      "metadata": {
        "id": "view-in-github",
        "colab_type": "text"
      },
      "source": [
        "<a href=\"https://colab.research.google.com/github/jefersontigik/Python_Samples/blob/main/Revis%C3%A3o.ipynb\" target=\"_parent\"><img src=\"https://colab.research.google.com/assets/colab-badge.svg\" alt=\"Open In Colab\"/></a>"
      ]
    },
    {
      "cell_type": "markdown",
      "source": [
        "## **Exercícios de revisão em Python**"
      ],
      "metadata": {
        "id": "P0Dk6DbwVpdL"
      }
    },
    {
      "cell_type": "markdown",
      "source": [
        "1. Crie um programa para calcular e informar se compensa mais abastecer um  automóvel com gasolina ou com etanol. O programa deve solicitar ao usuário o preço da gasolina e, em seguida, o preço do etanol. Depois efetuar a divisão do preço do etanol pelo preço da gasolina. Se o resultado for maior ou igual a 0.7, o programa deve apresentar a mensagem \"Compensa abastecer com gasolina\". Caso contrário, o programa deve apresentar a mensagem \"Compensa abastecer com etanol.\""
      ],
      "metadata": {
        "id": "MeT4C1MFVVqs"
      }
    },
    {
      "cell_type": "code",
      "source": [],
      "metadata": {
        "id": "xH4-1Lz_V-3M"
      },
      "execution_count": null,
      "outputs": []
    },
    {
      "cell_type": "markdown",
      "source": [
        "2. Crie um programa que solicite ao usuário um número entre 1 e 12 e\n",
        "apresente na tela o mês correspondente."
      ],
      "metadata": {
        "id": "WOeanLYsV0xs"
      }
    },
    {
      "cell_type": "code",
      "source": [],
      "metadata": {
        "id": "fdEAT-KYVhh1"
      },
      "execution_count": null,
      "outputs": []
    },
    {
      "cell_type": "markdown",
      "source": [
        "3. Crie um programa para ler N números até que a soma dos números\n",
        "seja maior ou igual a 100. Apresente a quantidade de números necessários\n",
        "para alcançar a soma maior ou igual a 100."
      ],
      "metadata": {
        "id": "bPmL5jRSV_Z9"
      }
    },
    {
      "cell_type": "code",
      "source": [],
      "metadata": {
        "id": "_4xufpXSV7Mb"
      },
      "execution_count": null,
      "outputs": []
    },
    {
      "cell_type": "markdown",
      "source": [
        "4. Crie um programa para armazenar a velocidade de 6 voltas de um piloto em uma pista de kart. Depois de ter armazenado as velocidades, seu programa deve apresentar as velocidades na ordem contrária da lida (a última velocidade lida será mostrada primeiro)."
      ],
      "metadata": {
        "id": "I__yrDT-WLd9"
      }
    },
    {
      "cell_type": "code",
      "source": [],
      "metadata": {
        "id": "k8N_p_4PWaCs"
      },
      "execution_count": null,
      "outputs": []
    },
    {
      "cell_type": "markdown",
      "source": [
        "5. Crie um programa para armazenar os 6 caracteres da senha do usuário. A senha só pode ter as vogais (a, e, i, o e u). Depois de armazenar cada vogal em uma posição, seu programa deve realizar a criptografia da senha. A lógica da criptografia é: cada letra 'a' deve ser substituída pelo caractere 'z', letra 'e' pelo caractere '3', letra 'i' pelo caractere 'l', letra 'o' pelo caractere '0' e letra 'u' pelo caractere $. Após criptografar a senha, o programa deve apresentar a senha digitada e a senha criptografada."
      ],
      "metadata": {
        "id": "2DYKJQ1zWlmr"
      }
    },
    {
      "cell_type": "code",
      "source": [],
      "metadata": {
        "id": "U5pSD2xsWs_V"
      },
      "execution_count": null,
      "outputs": []
    }
  ]
}